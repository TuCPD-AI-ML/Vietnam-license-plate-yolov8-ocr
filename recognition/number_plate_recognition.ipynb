{
 "cells": [
  {
   "cell_type": "code",
   "execution_count": 1,
   "metadata": {},
   "outputs": [],
   "source": [
    "from ultralytics import YOLO\n",
    "import matplotlib.pyplot as plt \n",
    "import cv2\n",
    "import numpy as np\n",
    "import easyocr\n",
    "import os"
   ]
  },
  {
   "cell_type": "code",
   "execution_count": null,
   "metadata": {},
   "outputs": [],
   "source": [
    "img = cv2.imread('')\n",
    "img = cv2.cvtColor(img, cv2.COLOR_BGR2RGB)\n",
    "plt.imshow(img)\n",
    "plt.show()"
   ]
  },
  {
   "cell_type": "code",
   "execution_count": null,
   "metadata": {},
   "outputs": [
    {
     "name": "stderr",
     "output_type": "stream",
     "text": [
      "Model summary (fused): 168 layers, 3005843 parameters, 0 gradients, 8.1 GFLOPs\n",
      "\n",
      "0: 416x640 1 plate, 90.0ms\n",
      "Speed: 2.0ms preprocess, 90.0ms inference, 0.0ms postprocess per image at shape (1, 3, 416, 640)\n"
     ]
    },
    {
     "name": "stdout",
     "output_type": "stream",
     "text": [
      "[[     260.95      251.87      342.29      272.71]]\n"
     ]
    }
   ],
   "source": [
    "model = YOLO('best.pt')\n",
    "model.fuse()\n",
    "result = model(source=img, conf=0.5)\n",
    "# print(result)\n",
    "for r in result:\n",
    "    box = r.boxes.cpu().numpy()\n",
    "xyxy = box.xyxy\n",
    "print(xyxy)"
   ]
  },
  {
   "cell_type": "code",
   "execution_count": null,
   "metadata": {},
   "outputs": [],
   "source": [
    "x, y, x_max, y_max = list(map(int, xyxy[0][:4]))"
   ]
  },
  {
   "cell_type": "code",
   "execution_count": null,
   "metadata": {},
   "outputs": [
    {
     "data": {
      "image/png": "[encoded data removed]",
      "text/plain": [
       "<Figure size 640x480 with 1 Axes>"
      ]
     },
     "metadata": {},
     "output_type": "display_data"
    }
   ],
   "source": [
    "plate = img[y:y_max, x:x_max].copy()\n",
    "plt.imshow(plate)\n",
    "plt.show()"
   ]
  },
  {
   "cell_type": "code",
   "execution_count": null,
   "metadata": {},
   "outputs": [
    {
     "name": "stderr",
     "output_type": "stream",
     "text": [
      "Neither CUDA nor MPS are available - defaulting to CPU. Note: This module is much faster with a GPU.\n"
     ]
    }
   ],
   "source": [
    "reader = easyocr.Reader(['en'])"
   ]
  },
  {
   "cell_type": "code",
   "execution_count": null,
   "metadata": {},
   "outputs": [
    {
     "name": "stdout",
     "output_type": "stream",
     "text": [
      "[([[0, 0], [82, 0], [82, 21], [0, 21]], '6IF.795.12', 0.3684892839442339)]\n",
      "6IF.795.12\n"
     ]
    }
   ],
   "source": [
    "plate_gray = cv2.cvtColor(plate, cv2.COLOR_RGB2GRAY)\n",
    "plate_blur = cv2.GaussianBlur(plate_gray, (5, 5), 0)\n",
    "edges = cv2.Canny(plate_blur, 100, 150)\n",
    "\n",
    "contours, _ = cv2.findContours(edges, cv2.RETR_EXTERNAL, cv2.CHAIN_APPROX_SIMPLE)\n",
    "max_contour = max(contours, key=cv2.contourArea)\n",
    "# test_img1 = plate.copy()\n",
    "# cv2.drawContours(test_img1, max_contour, -1, (0, 255, 0), 10)\n",
    "# plt.imshow(test_img1)\n",
    "epsilon = 0.02*cv2.arcLength(max_contour, True)\n",
    "approx = cv2.approxPolyDP(max_contour, epsilon, True)\n",
    "\n",
    "if len(approx) == 4:\n",
    "    width, height = 300, 100\n",
    "    src = np.float32([list(approx[0][0]), list(approx[3][0]), list(approx[1][0]), list(approx[2][0])])\n",
    "    # print(src)\n",
    "    dst = np.float32([[0, 0], [width, 0], [0, height], [width, height]])\n",
    "    # print(dst)\n",
    "\n",
    "    M = cv2.getPerspectiveTransform(src, dst)\n",
    "\n",
    "    test = plate_gray.copy()\n",
    "    new_plate = cv2.warpPerspective(test, M, (width, height))\n",
    "    # plt.imshow(new_plate, cmap='gray')\n",
    "    # plt.show()\n",
    "    _, thresholded_img = cv2.threshold(new_plate, 180, 255, cv2.THRESH_BINARY)\n",
    "    # plt.imshow(thresholded_img, cmap='gray')\n",
    "    # plt.show()\n",
    "    dilation = cv2.dilate(thresholded_img, np.ones((4,4), np.uint8), iterations = 1)\n",
    "    # plt.imshow(dilation, cmap='gray')\n",
    "    # plt.show()\n",
    "    \n",
    "    number = reader.readtext(dilation)\n",
    "    print(number)    \n",
    "    print(number[0][1])\n",
    "else:\n",
    "    number = reader.readtext(plate)\n",
    "    print(number)    \n",
    "    print(number[0][1])"
   ]
  }
 ],
 "metadata": {
  "kernelspec": {
   "display_name": "Python 3.10.3 64-bit",
   "language": "python",
   "name": "python3"
  },
  "language_info": {
   "codemirror_mode": {
    "name": "ipython",
    "version": 3
   },
   "file_extension": ".py",
   "mimetype": "text/x-python",
   "name": "python",
   "nbconvert_exporter": "python",
   "pygments_lexer": "ipython3",
   "version": "3.10.3"
  },
  "orig_nbformat": 4,
  "vscode": {
   "interpreter": {
    "hash": "7af049ce765a72906c85f030afe73e4efa3ec8105e9cf3ed0653338189f90285"
   }
  }
 },
 "nbformat": 4,
 "nbformat_minor": 2
}
