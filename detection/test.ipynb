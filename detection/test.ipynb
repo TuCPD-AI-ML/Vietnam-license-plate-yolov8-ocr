{
 "cells": [
  {
   "cell_type": "code",
   "execution_count": null,
   "metadata": {},
   "outputs": [],
   "source": [
    "from ultralytics import YOLO\n",
    "\n",
    "model = YOLO('best2.pt')\n",
    "source = 'test/test_1.mp4'\n",
    "results = model(source, show=True)  # generator of Results objects\n",
    "\n",
    "# boxes = []\n",
    "# for result in results:\n",
    "#     box = result.boxes.cpu().numpy()\n",
    "#     xyxy = box.xyxy\n",
    "#     if xyxy[0] is not None:\n",
    "#         boxes.append(xyxy)\n",
    "# print(boxes)"
   ]
  }
 ],
 "metadata": {
  "kernelspec": {
   "display_name": "Python 3.10.3 64-bit",
   "language": "python",
   "name": "python3"
  },
  "language_info": {
   "codemirror_mode": {
    "name": "ipython",
    "version": 3
   },
   "file_extension": ".py",
   "mimetype": "text/x-python",
   "name": "python",
   "nbconvert_exporter": "python",
   "pygments_lexer": "ipython3",
   "version": "3.10.3"
  },
  "orig_nbformat": 4,
  "vscode": {
   "interpreter": {
    "hash": "7af049ce765a72906c85f030afe73e4efa3ec8105e9cf3ed0653338189f90285"
   }
  }
 },
 "nbformat": 4,
 "nbformat_minor": 2
}
